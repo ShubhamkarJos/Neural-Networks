{
 "cells": [
  {
   "cell_type": "markdown",
   "metadata": {
    "colab_type": "text",
    "id": "3DR-eO17geWu"
   },
   "source": [
    "# Convolutional Neural Network"
   ]
  },
  {
   "cell_type": "code",
   "execution_count": 1,
   "metadata": {
    "colab": {},
    "colab_type": "code",
    "id": "sCV30xyVhFbE"
   },
   "outputs": [
    {
     "name": "stderr",
     "output_type": "stream",
     "text": [
      "Using TensorFlow backend.\n"
     ]
    }
   ],
   "source": [
    "import tensorflow as tf\n",
    "from keras.preprocessing.image import ImageDataGenerator"
   ]
  },
  {
   "cell_type": "code",
   "execution_count": 2,
   "metadata": {
    "colab": {},
    "colab_type": "code",
    "id": "FIleuCAjoFD8"
   },
   "outputs": [
    {
     "data": {
      "text/plain": [
       "'1.15.0'"
      ]
     },
     "execution_count": 2,
     "metadata": {},
     "output_type": "execute_result"
    }
   ],
   "source": [
    "tf.__version__"
   ]
  },
  {
   "cell_type": "code",
   "execution_count": 3,
   "metadata": {
    "colab": {},
    "colab_type": "code",
    "id": "0koUcJMJpEBD"
   },
   "outputs": [
    {
     "name": "stdout",
     "output_type": "stream",
     "text": [
      "Found 8000 images belonging to 2 classes.\n"
     ]
    }
   ],
   "source": [
    "train_datagen = ImageDataGenerator(rescale = 1./255,\n",
    "                                   shear_range = 0.2,\n",
    "                                   zoom_range = 0.2,\n",
    "                                   horizontal_flip = True)\n",
    "training_set = train_datagen.flow_from_directory('dataset/training_set',\n",
    "                                                 target_size = (64, 64),\n",
    "                                                 batch_size = 32,\n",
    "                                                 class_mode = 'binary')"
   ]
  },
  {
   "cell_type": "code",
   "execution_count": 4,
   "metadata": {
    "colab": {},
    "colab_type": "code",
    "id": "SH4WzfOhpKc3"
   },
   "outputs": [
    {
     "name": "stdout",
     "output_type": "stream",
     "text": [
      "Found 2000 images belonging to 2 classes.\n"
     ]
    }
   ],
   "source": [
    "test_datagen = ImageDataGenerator(rescale = 1./255)\n",
    "test_set = test_datagen.flow_from_directory('dataset/test_set',\n",
    "                                            target_size = (64, 64),\n",
    "                                            batch_size = 32,\n",
    "                                            class_mode = 'binary')"
   ]
  },
  {
   "cell_type": "code",
   "execution_count": 5,
   "metadata": {
    "colab": {},
    "colab_type": "code",
    "id": "SAUt4UMPlhLS"
   },
   "outputs": [],
   "source": [
    "cnn = tf.keras.models.Sequential()"
   ]
  },
  {
   "cell_type": "code",
   "execution_count": 6,
   "metadata": {
    "colab": {},
    "colab_type": "code",
    "id": "XPzPrMckl-hV"
   },
   "outputs": [
    {
     "name": "stdout",
     "output_type": "stream",
     "text": [
      "WARNING:tensorflow:From C:\\Users\\lenovo\\Anaconda3\\lib\\site-packages\\tensorflow_core\\python\\ops\\resource_variable_ops.py:1630: calling BaseResourceVariable.__init__ (from tensorflow.python.ops.resource_variable_ops) with constraint is deprecated and will be removed in a future version.\n",
      "Instructions for updating:\n",
      "If using Keras pass *_constraint arguments to layers.\n"
     ]
    }
   ],
   "source": [
    "cnn.add(tf.keras.layers.Conv2D(filters=32, kernel_size=3, activation='relu', input_shape=[64, 64, 3]))"
   ]
  },
  {
   "cell_type": "code",
   "execution_count": 7,
   "metadata": {
    "colab": {},
    "colab_type": "code",
    "id": "ncpqPl69mOac"
   },
   "outputs": [],
   "source": [
    "cnn.add(tf.keras.layers.MaxPool2D(pool_size=2, strides=2))"
   ]
  },
  {
   "cell_type": "code",
   "execution_count": 8,
   "metadata": {
    "colab": {},
    "colab_type": "code",
    "id": "i_-FZjn_m8gk"
   },
   "outputs": [],
   "source": [
    "cnn.add(tf.keras.layers.Conv2D(filters=32, kernel_size=3, activation='relu'))\n",
    "cnn.add(tf.keras.layers.MaxPool2D(pool_size=2, strides=2))"
   ]
  },
  {
   "cell_type": "code",
   "execution_count": 9,
   "metadata": {
    "colab": {},
    "colab_type": "code",
    "id": "6AZeOGCvnNZn"
   },
   "outputs": [],
   "source": [
    "cnn.add(tf.keras.layers.Flatten())"
   ]
  },
  {
   "cell_type": "code",
   "execution_count": 10,
   "metadata": {
    "colab": {},
    "colab_type": "code",
    "id": "8GtmUlLd26Nq"
   },
   "outputs": [],
   "source": [
    "cnn.add(tf.keras.layers.Dense(units=128, activation='relu'))"
   ]
  },
  {
   "cell_type": "code",
   "execution_count": 11,
   "metadata": {
    "colab": {},
    "colab_type": "code",
    "id": "1p_Zj1Mc3Ko_"
   },
   "outputs": [],
   "source": [
    "cnn.add(tf.keras.layers.Dense(units=1, activation='sigmoid'))"
   ]
  },
  {
   "cell_type": "code",
   "execution_count": 12,
   "metadata": {
    "colab": {},
    "colab_type": "code",
    "id": "NALksrNQpUlJ"
   },
   "outputs": [
    {
     "name": "stdout",
     "output_type": "stream",
     "text": [
      "WARNING:tensorflow:From C:\\Users\\lenovo\\Anaconda3\\lib\\site-packages\\tensorflow_core\\python\\ops\\nn_impl.py:183: where (from tensorflow.python.ops.array_ops) is deprecated and will be removed in a future version.\n",
      "Instructions for updating:\n",
      "Use tf.where in 2.0, which has the same broadcast rule as np.where\n"
     ]
    }
   ],
   "source": [
    "cnn.compile(optimizer = 'adam', loss = 'binary_crossentropy', metrics = ['accuracy'])"
   ]
  },
  {
   "cell_type": "code",
   "execution_count": 13,
   "metadata": {
    "colab": {},
    "colab_type": "code",
    "id": "XUj1W4PJptta"
   },
   "outputs": [
    {
     "name": "stdout",
     "output_type": "stream",
     "text": [
      "Epoch 1/25\n",
      "249/250 [============================>.] - ETA: 0s - loss: 0.6783 - acc: 0.5753Epoch 1/25\n",
      "250/250 [==============================] - 232s 930ms/step - loss: 0.6781 - acc: 0.5759 - val_loss: 0.6338 - val_acc: 0.6695\n",
      "Epoch 2/25\n",
      "249/250 [============================>.] - ETA: 0s - loss: 0.6145 - acc: 0.6645Epoch 1/25\n",
      "250/250 [==============================] - 76s 305ms/step - loss: 0.6143 - acc: 0.6647 - val_loss: 0.5776 - val_acc: 0.7150\n",
      "Epoch 3/25\n",
      "249/250 [============================>.] - ETA: 0s - loss: 0.5677 - acc: 0.7029Epoch 1/25\n",
      "250/250 [==============================] - 72s 288ms/step - loss: 0.5675 - acc: 0.7032 - val_loss: 0.5575 - val_acc: 0.7230\n",
      "Epoch 4/25\n",
      "249/250 [============================>.] - ETA: 0s - loss: 0.5376 - acc: 0.7294Epoch 1/25\n",
      "250/250 [==============================] - 93s 372ms/step - loss: 0.5369 - acc: 0.7299 - val_loss: 0.5720 - val_acc: 0.7170\n",
      "Epoch 5/25\n",
      "249/250 [============================>.] - ETA: 0s - loss: 0.5080 - acc: 0.7494Epoch 1/25\n",
      "250/250 [==============================] - 57s 228ms/step - loss: 0.5078 - acc: 0.7499 - val_loss: 0.4979 - val_acc: 0.7595\n",
      "Epoch 6/25\n",
      "249/250 [============================>.] - ETA: 0s - loss: 0.5063 - acc: 0.7513Epoch 1/25\n",
      "250/250 [==============================] - 63s 252ms/step - loss: 0.5068 - acc: 0.7506 - val_loss: 0.5177 - val_acc: 0.7575\n",
      "Epoch 7/25\n",
      "249/250 [============================>.] - ETA: 0s - loss: 0.4788 - acc: 0.7684Epoch 1/25\n",
      "250/250 [==============================] - 52s 208ms/step - loss: 0.4793 - acc: 0.7682 - val_loss: 0.4927 - val_acc: 0.7655\n",
      "Epoch 8/25\n",
      "249/250 [============================>.] - ETA: 0s - loss: 0.4576 - acc: 0.7840Epoch 1/25\n",
      "250/250 [==============================] - 52s 208ms/step - loss: 0.4580 - acc: 0.7836 - val_loss: 0.4876 - val_acc: 0.7735\n",
      "Epoch 9/25\n",
      "249/250 [============================>.] - ETA: 0s - loss: 0.4489 - acc: 0.7843Epoch 1/25\n",
      "250/250 [==============================] - 49s 198ms/step - loss: 0.4490 - acc: 0.7840 - val_loss: 0.4747 - val_acc: 0.7815\n",
      "Epoch 10/25\n",
      "249/250 [============================>.] - ETA: 0s - loss: 0.4402 - acc: 0.7922Epoch 1/25\n",
      "250/250 [==============================] - 52s 208ms/step - loss: 0.4408 - acc: 0.7916 - val_loss: 0.4797 - val_acc: 0.7830\n",
      "Epoch 11/25\n",
      "249/250 [============================>.] - ETA: 0s - loss: 0.4301 - acc: 0.7999Epoch 1/25\n",
      "250/250 [==============================] - 52s 208ms/step - loss: 0.4298 - acc: 0.8002 - val_loss: 0.4568 - val_acc: 0.7970\n",
      "Epoch 12/25\n",
      "249/250 [============================>.] - ETA: 0s - loss: 0.4115 - acc: 0.8109Epoch 1/25\n",
      "250/250 [==============================] - 56s 224ms/step - loss: 0.4118 - acc: 0.8106 - val_loss: 0.4623 - val_acc: 0.7860\n",
      "Epoch 13/25\n",
      "249/250 [============================>.] - ETA: 0s - loss: 0.4027 - acc: 0.8166Epoch 1/25\n",
      "250/250 [==============================] - 54s 215ms/step - loss: 0.4024 - acc: 0.8167 - val_loss: 0.5048 - val_acc: 0.7830\n",
      "Epoch 14/25\n",
      "249/250 [============================>.] - ETA: 0s - loss: 0.3921 - acc: 0.8198Epoch 1/25\n",
      "250/250 [==============================] - 55s 218ms/step - loss: 0.3918 - acc: 0.8201 - val_loss: 0.4865 - val_acc: 0.7905\n",
      "Epoch 15/25\n",
      "249/250 [============================>.] - ETA: 0s - loss: 0.3787 - acc: 0.8259Epoch 1/25\n",
      "250/250 [==============================] - 58s 232ms/step - loss: 0.3786 - acc: 0.8257 - val_loss: 0.4716 - val_acc: 0.7970\n",
      "Epoch 16/25\n",
      "248/250 [============================>.] - ETA: 0s - loss: 0.3630 - acc: 0.8348Epoch 1/25\n",
      "250/250 [==============================] - 55s 221ms/step - loss: 0.3624 - acc: 0.8351 - val_loss: 0.4475 - val_acc: 0.8115\n",
      "Epoch 17/25\n",
      "249/250 [============================>.] - ETA: 0s - loss: 0.3500 - acc: 0.8440Epoch 1/25\n",
      "250/250 [==============================] - 55s 220ms/step - loss: 0.3499 - acc: 0.8441 - val_loss: 0.4428 - val_acc: 0.8035\n",
      "Epoch 18/25\n",
      "249/250 [============================>.] - ETA: 0s - loss: 0.3460 - acc: 0.8455Epoch 1/25\n",
      "250/250 [==============================] - 53s 214ms/step - loss: 0.3462 - acc: 0.8451 - val_loss: 0.4557 - val_acc: 0.8050\n",
      "Epoch 19/25\n",
      "249/250 [============================>.] - ETA: 0s - loss: 0.3270 - acc: 0.8579Epoch 1/25\n",
      "250/250 [==============================] - 53s 210ms/step - loss: 0.3269 - acc: 0.8580 - val_loss: 0.5031 - val_acc: 0.7930\n",
      "Epoch 20/25\n",
      "249/250 [============================>.] - ETA: 0s - loss: 0.3178 - acc: 0.8594Epoch 1/25\n",
      "250/250 [==============================] - 52s 207ms/step - loss: 0.3173 - acc: 0.8596 - val_loss: 0.4620 - val_acc: 0.8055\n",
      "Epoch 21/25\n",
      "249/250 [============================>.] - ETA: 0s - loss: 0.3016 - acc: 0.8724Epoch 1/25\n",
      "250/250 [==============================] - 51s 205ms/step - loss: 0.3014 - acc: 0.8725 - val_loss: 0.4829 - val_acc: 0.8145\n",
      "Epoch 22/25\n",
      "249/250 [============================>.] - ETA: 0s - loss: 0.2968 - acc: 0.8672Epoch 1/25\n",
      "250/250 [==============================] - 52s 207ms/step - loss: 0.2970 - acc: 0.8670 - val_loss: 0.4639 - val_acc: 0.8085\n",
      "Epoch 23/25\n",
      "248/250 [============================>.] - ETA: 0s - loss: 0.2901 - acc: 0.8736Epoch 1/25\n",
      "250/250 [==============================] - 52s 210ms/step - loss: 0.2901 - acc: 0.8736 - val_loss: 0.5265 - val_acc: 0.7930\n",
      "Epoch 24/25\n",
      "249/250 [============================>.] - ETA: 0s - loss: 0.2813 - acc: 0.8760Epoch 1/25\n",
      "250/250 [==============================] - 52s 207ms/step - loss: 0.2814 - acc: 0.8760 - val_loss: 0.4791 - val_acc: 0.8100\n",
      "Epoch 25/25\n",
      "249/250 [============================>.] - ETA: 0s - loss: 0.2747 - acc: 0.8827Epoch 1/25\n",
      "250/250 [==============================] - 59s 234ms/step - loss: 0.2743 - acc: 0.8829 - val_loss: 0.4773 - val_acc: 0.8080\n"
     ]
    },
    {
     "data": {
      "text/plain": [
       "<tensorflow.python.keras.callbacks.History at 0x258acf1dc48>"
      ]
     },
     "execution_count": 13,
     "metadata": {},
     "output_type": "execute_result"
    }
   ],
   "source": [
    "cnn.fit(x = training_set, validation_data = test_set, epochs = 25)"
   ]
  },
  {
   "cell_type": "code",
   "execution_count": 14,
   "metadata": {
    "colab": {},
    "colab_type": "code",
    "id": "gsSiWEJY1BPB"
   },
   "outputs": [],
   "source": [
    "import numpy as np\n",
    "from keras.preprocessing import image\n",
    "test_image = image.load_img('dataset/single_prediction/cat_or_dog_1.jpg', target_size = (64, 64))\n",
    "test_image = image.img_to_array(test_image)\n",
    "test_image = np.expand_dims(test_image, axis = 0)\n",
    "result = cnn.predict(test_image)\n",
    "training_set.class_indices\n",
    "if result[0][0] == 1:\n",
    "  prediction = 'dog'\n",
    "else:\n",
    "  prediction = 'cat'"
   ]
  },
  {
   "cell_type": "code",
   "execution_count": 15,
   "metadata": {
    "colab": {},
    "colab_type": "code",
    "id": "ED9KB3I54c1i"
   },
   "outputs": [
    {
     "name": "stdout",
     "output_type": "stream",
     "text": [
      "dog\n"
     ]
    }
   ],
   "source": [
    "print(prediction)"
   ]
  }
 ],
 "metadata": {
  "colab": {
   "authorship_tag": "ABX9TyON0YxX/oky4tPbqCLnFjWD",
   "collapsed_sections": [],
   "name": "convolutional_neural_network.ipynb",
   "provenance": [],
   "toc_visible": true
  },
  "kernelspec": {
   "display_name": "Python 3",
   "language": "python",
   "name": "python3"
  },
  "language_info": {
   "codemirror_mode": {
    "name": "ipython",
    "version": 3
   },
   "file_extension": ".py",
   "mimetype": "text/x-python",
   "name": "python",
   "nbconvert_exporter": "python",
   "pygments_lexer": "ipython3",
   "version": "3.7.4"
  }
 },
 "nbformat": 4,
 "nbformat_minor": 1
}
